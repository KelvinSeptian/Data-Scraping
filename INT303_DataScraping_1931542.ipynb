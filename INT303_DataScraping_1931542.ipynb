{
 "cells": [
  {
   "cell_type": "code",
   "execution_count": 15,
   "id": "ed044dd8",
   "metadata": {
    "scrolled": false
   },
   "outputs": [
    {
     "name": "stdout",
     "output_type": "stream",
     "text": [
      "DataFrame is written successfully.\n"
     ]
    }
   ],
   "source": [
    "from bs4 import BeautifulSoup\n",
    "import requests\n",
    "import pandas as pd\n",
    "import matplotlib.pyplot as plt\n",
    "import numpy as np\n",
    "\n",
    "\n",
    "response = requests.get('https://www.imdb.com/search/title/?count=100&groups=top_1000&sort=user_rating')\n",
    "soup = BeautifulSoup(response.content,'html.parser')\n",
    "\n",
    "movie_name = []\n",
    "director = []\n",
    "actor = []\n",
    "year = []\n",
    "duration = []\n",
    "rating = [] \n",
    "earning = []\n",
    "Type =[]\n",
    "\n",
    "\n",
    "movie_data = soup.findAll('div', attrs = {'class': 'lister-item mode-advanced'})\n",
    "\n",
    "\n",
    "for store in movie_data:\n",
    "    \n",
    "    title = store.h3.a.text\n",
    "    movie_name.append(title)\n",
    "    \n",
    "    \n",
    "    year_release = store.h3.find('span', class_='lister-item-year text-muted unbold').text.replace('(','').replace(')','')\n",
    "    year.append(year_release)  \n",
    "    \n",
    "    runtime = store.p.find('span', class_ = 'runtime').text.replace(' min', '')\n",
    "    duration.append(runtime)\n",
    "    \n",
    "    rates = store.find('div', class_='inline-block ratings-imdb-rating').strong.text\n",
    "    rating.append(rates)\n",
    "    \n",
    "    genre = store.p.find('span', class_= 'genre').text\n",
    "    Type.append(genre)\n",
    "    \n",
    "    val = store.find_all('span', attrs = {'name':'nv'})\n",
    "    \n",
    "    income = val[1].text if len(val)>1 else ' '\n",
    "    earning.append(income)\n",
    "    \n",
    "    directors = store.find('p', {'class' : \"\"}).get_text(strip=True)\n",
    "    if(len(directors.split(\"Director:\"))==2):\n",
    "        director_name = directors.split(\"Director:\")[1].split('|')[0]\n",
    "        \n",
    "    else:\n",
    "        \n",
    "        director_name = directors.split(\"Directors:\")[1].split('|')[0]\n",
    "   \n",
    "    \n",
    "    cast = directors.split(\"|\")[1].split(':')[1]\n",
    "    actor.append(cast)\n",
    "    director.append(director_name)\n",
    "   \n",
    "mov_DF = pd.DataFrame({\n",
    "    'Title': movie_name,\n",
    "    'Director': director,\n",
    "    'Cast': actor,\n",
    "    'Year of release':year,\n",
    "    'Duration (min)': duration,\n",
    "    'Type': Type,\n",
    "    'Earning': earning,\n",
    "    'Rating': rating\n",
    "})\n",
    "\n",
    "\n",
    "  \n",
    "# saving the excel\n",
    "mov_DF.to_excel(\"movie_info.xlsx\")   \n",
    "mov_DF.to_csv(\"movie_info.csv\") \n",
    "print('DataFrame is written successfully.')    \n",
    "    \n"
   ]
  },
  {
   "cell_type": "code",
   "execution_count": null,
   "id": "ae6cc68e",
   "metadata": {},
   "outputs": [],
   "source": []
  },
  {
   "cell_type": "code",
   "execution_count": null,
   "id": "752a6cf6",
   "metadata": {},
   "outputs": [],
   "source": [
    "\n"
   ]
  },
  {
   "cell_type": "code",
   "execution_count": null,
   "id": "179543e2",
   "metadata": {},
   "outputs": [],
   "source": []
  }
 ],
 "metadata": {
  "kernelspec": {
   "display_name": "Python 3",
   "language": "python",
   "name": "python3"
  },
  "language_info": {
   "codemirror_mode": {
    "name": "ipython",
    "version": 3
   },
   "file_extension": ".py",
   "mimetype": "text/x-python",
   "name": "python",
   "nbconvert_exporter": "python",
   "pygments_lexer": "ipython3",
   "version": "3.8.8"
  }
 },
 "nbformat": 4,
 "nbformat_minor": 5
}
